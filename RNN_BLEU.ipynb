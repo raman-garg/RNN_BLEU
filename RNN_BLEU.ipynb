{
 "cells": [
  {
   "cell_type": "code",
   "execution_count": 1,
   "metadata": {
    "_cell_guid": "b1076dfc-b9ad-4769-8c92-a6c4dae69d19",
    "_uuid": "8f2839f25d086af736a60e9eeb907d3b93b6e0e5"
   },
   "outputs": [],
   "source": [
    "#importing required libraries\n",
    "import tensorflow as tf\n",
    "import pandas as pd\n",
    "import numpy as np\n",
    "from tensorflow.keras.layers import Embedding, LSTM, Dense, Bidirectional\n",
    "from tensorflow.keras.preprocessing.sequence import pad_sequences\n",
    "from tensorflow.keras.preprocessing.text import Tokenizer\n",
    "from tensorflow.keras.callbacks import EarlyStopping\n",
    "from tensorflow.keras.models import Sequential\n",
    "from tensorflow.keras.optimizers import Adam\n",
    "import matplotlib.pyplot as plt\n",
    "\n",
    "%matplotlib inline"
   ]
  },
  {
   "cell_type": "code",
   "execution_count": 2,
   "metadata": {
    "_cell_guid": "79c7e3d0-c299-4dcb-8224-4455121ee9b0",
    "_uuid": "d629ff2d2480ee46fbb7e2d37f6b5fab8052498a"
   },
   "outputs": [
    {
     "data": {
      "text/html": [
       "<div>\n",
       "<style scoped>\n",
       "    .dataframe tbody tr th:only-of-type {\n",
       "        vertical-align: middle;\n",
       "    }\n",
       "\n",
       "    .dataframe tbody tr th {\n",
       "        vertical-align: top;\n",
       "    }\n",
       "\n",
       "    .dataframe thead th {\n",
       "        text-align: right;\n",
       "    }\n",
       "</style>\n",
       "<table border=\"1\" class=\"dataframe\">\n",
       "  <thead>\n",
       "    <tr style=\"text-align: right;\">\n",
       "      <th></th>\n",
       "      <th>Unnamed: 0</th>\n",
       "      <th>Clothing ID</th>\n",
       "      <th>Age</th>\n",
       "      <th>Title</th>\n",
       "      <th>Review Text</th>\n",
       "      <th>Rating</th>\n",
       "      <th>Recommended IND</th>\n",
       "      <th>Positive Feedback Count</th>\n",
       "      <th>Division Name</th>\n",
       "      <th>Department Name</th>\n",
       "      <th>Class Name</th>\n",
       "    </tr>\n",
       "  </thead>\n",
       "  <tbody>\n",
       "    <tr>\n",
       "      <th>0</th>\n",
       "      <td>0</td>\n",
       "      <td>767</td>\n",
       "      <td>33</td>\n",
       "      <td>NaN</td>\n",
       "      <td>Absolutely wonderful - silky and sexy and comf...</td>\n",
       "      <td>4</td>\n",
       "      <td>1</td>\n",
       "      <td>0</td>\n",
       "      <td>Initmates</td>\n",
       "      <td>Intimate</td>\n",
       "      <td>Intimates</td>\n",
       "    </tr>\n",
       "    <tr>\n",
       "      <th>1</th>\n",
       "      <td>1</td>\n",
       "      <td>1080</td>\n",
       "      <td>34</td>\n",
       "      <td>NaN</td>\n",
       "      <td>Love this dress!  it's sooo pretty.  i happene...</td>\n",
       "      <td>5</td>\n",
       "      <td>1</td>\n",
       "      <td>4</td>\n",
       "      <td>General</td>\n",
       "      <td>Dresses</td>\n",
       "      <td>Dresses</td>\n",
       "    </tr>\n",
       "    <tr>\n",
       "      <th>2</th>\n",
       "      <td>2</td>\n",
       "      <td>1077</td>\n",
       "      <td>60</td>\n",
       "      <td>Some major design flaws</td>\n",
       "      <td>I had such high hopes for this dress and reall...</td>\n",
       "      <td>3</td>\n",
       "      <td>0</td>\n",
       "      <td>0</td>\n",
       "      <td>General</td>\n",
       "      <td>Dresses</td>\n",
       "      <td>Dresses</td>\n",
       "    </tr>\n",
       "    <tr>\n",
       "      <th>3</th>\n",
       "      <td>3</td>\n",
       "      <td>1049</td>\n",
       "      <td>50</td>\n",
       "      <td>My favorite buy!</td>\n",
       "      <td>I love, love, love this jumpsuit. it's fun, fl...</td>\n",
       "      <td>5</td>\n",
       "      <td>1</td>\n",
       "      <td>0</td>\n",
       "      <td>General Petite</td>\n",
       "      <td>Bottoms</td>\n",
       "      <td>Pants</td>\n",
       "    </tr>\n",
       "    <tr>\n",
       "      <th>4</th>\n",
       "      <td>4</td>\n",
       "      <td>847</td>\n",
       "      <td>47</td>\n",
       "      <td>Flattering shirt</td>\n",
       "      <td>This shirt is very flattering to all due to th...</td>\n",
       "      <td>5</td>\n",
       "      <td>1</td>\n",
       "      <td>6</td>\n",
       "      <td>General</td>\n",
       "      <td>Tops</td>\n",
       "      <td>Blouses</td>\n",
       "    </tr>\n",
       "  </tbody>\n",
       "</table>\n",
       "</div>"
      ],
      "text/plain": [
       "   Unnamed: 0  Clothing ID  Age                    Title  \\\n",
       "0           0          767   33                      NaN   \n",
       "1           1         1080   34                      NaN   \n",
       "2           2         1077   60  Some major design flaws   \n",
       "3           3         1049   50         My favorite buy!   \n",
       "4           4          847   47         Flattering shirt   \n",
       "\n",
       "                                         Review Text  Rating  Recommended IND  \\\n",
       "0  Absolutely wonderful - silky and sexy and comf...       4                1   \n",
       "1  Love this dress!  it's sooo pretty.  i happene...       5                1   \n",
       "2  I had such high hopes for this dress and reall...       3                0   \n",
       "3  I love, love, love this jumpsuit. it's fun, fl...       5                1   \n",
       "4  This shirt is very flattering to all due to th...       5                1   \n",
       "\n",
       "   Positive Feedback Count   Division Name Department Name Class Name  \n",
       "0                        0       Initmates        Intimate  Intimates  \n",
       "1                        4         General         Dresses    Dresses  \n",
       "2                        0         General         Dresses    Dresses  \n",
       "3                        0  General Petite         Bottoms      Pants  \n",
       "4                        6         General            Tops    Blouses  "
      ]
     },
     "execution_count": 2,
     "metadata": {},
     "output_type": "execute_result"
    }
   ],
   "source": [
    "#importing the dataset\n",
    "df = pd.read_csv(\"E-Commerce_Reviews.csv\").head(300)\n",
    "df.head()"
   ]
  },
  {
   "cell_type": "code",
   "execution_count": 3,
   "metadata": {},
   "outputs": [
    {
     "data": {
      "text/plain": [
       "(300, 11)"
      ]
     },
     "execution_count": 3,
     "metadata": {},
     "output_type": "execute_result"
    }
   ],
   "source": [
    "#shape of the dataset\n",
    "df.shape"
   ]
  },
  {
   "cell_type": "code",
   "execution_count": 4,
   "metadata": {},
   "outputs": [
    {
     "name": "stdout",
     "output_type": "stream",
     "text": [
      "<class 'pandas.core.frame.DataFrame'>\n",
      "RangeIndex: 300 entries, 0 to 299\n",
      "Data columns (total 11 columns):\n",
      " #   Column                   Non-Null Count  Dtype \n",
      "---  ------                   --------------  ----- \n",
      " 0   Unnamed: 0               300 non-null    int64 \n",
      " 1   Clothing ID              300 non-null    int64 \n",
      " 2   Age                      300 non-null    int64 \n",
      " 3   Title                    234 non-null    object\n",
      " 4   Review Text              288 non-null    object\n",
      " 5   Rating                   300 non-null    int64 \n",
      " 6   Recommended IND          300 non-null    int64 \n",
      " 7   Positive Feedback Count  300 non-null    int64 \n",
      " 8   Division Name            300 non-null    object\n",
      " 9   Department Name          300 non-null    object\n",
      " 10  Class Name               300 non-null    object\n",
      "dtypes: int64(6), object(5)\n",
      "memory usage: 25.9+ KB\n"
     ]
    }
   ],
   "source": [
    "df.info()"
   ]
  },
  {
   "cell_type": "code",
   "execution_count": 5,
   "metadata": {},
   "outputs": [],
   "source": [
    "#tokenization\n",
    "tokenizer = Tokenizer()\n",
    "tokenizer.fit_on_texts(df['Review Text'].astype(str).str.lower())"
   ]
  },
  {
   "cell_type": "code",
   "execution_count": 6,
   "metadata": {},
   "outputs": [],
   "source": [
    "#tokenizing the sentences\n",
    "total_words = len(tokenizer.word_index)+1\n",
    "tokenized_sentences = tokenizer.texts_to_sequences(df['Review Text'].astype(str))"
   ]
  },
  {
   "cell_type": "code",
   "execution_count": 7,
   "metadata": {},
   "outputs": [],
   "source": [
    "#seperating sequences into n-gram sequence\n",
    "input_sequences = list()\n",
    "for i in tokenized_sentences:\n",
    "    for t in range(1, len(i)):\n",
    "        n_gram_sequence = i[:t+1]\n",
    "        input_sequences.append(n_gram_sequence)"
   ]
  },
  {
   "cell_type": "code",
   "execution_count": 8,
   "metadata": {},
   "outputs": [],
   "source": [
    "#pre pad with max sequence length\n",
    "max_sequence_len = max([len(x) for x in input_sequences])\n",
    "input_sequences = np.array(pad_sequences(input_sequences, maxlen=max_sequence_len, padding='pre'))"
   ]
  },
  {
   "cell_type": "code",
   "execution_count": 9,
   "metadata": {},
   "outputs": [],
   "source": [
    "#creating predictors and label\n",
    "xs, labels = input_sequences[:,:-1],input_sequences[:,-1]\n",
    "ys = tf.keras.utils.to_categorical(labels, num_classes=total_words)"
   ]
  },
  {
   "cell_type": "code",
   "execution_count": 10,
   "metadata": {},
   "outputs": [],
   "source": [
    "#impoting the model\n",
    "model = Sequential()\n",
    "model.add(Embedding(total_words, 30, input_length=max_sequence_len-1))\n",
    "model.add(Bidirectional(LSTM(200)))\n",
    "model.add(Dense(total_words, activation='softmax'))"
   ]
  },
  {
   "cell_type": "code",
   "execution_count": 11,
   "metadata": {},
   "outputs": [],
   "source": [
    "#compiling the model\n",
    "model.compile(loss='categorical_crossentropy', optimizer='adam', metrics=['accuracy'])"
   ]
  },
  {
   "cell_type": "code",
   "execution_count": 12,
   "metadata": {},
   "outputs": [],
   "source": [
    "#earlystopping\n",
    "earlystop = EarlyStopping(monitor='loss', min_delta=0, patience=4, verbose=0, mode='auto')"
   ]
  },
  {
   "cell_type": "code",
   "execution_count": 13,
   "metadata": {},
   "outputs": [
    {
     "name": "stdout",
     "output_type": "stream",
     "text": [
      "Train on 17388 samples\n",
      "Epoch 1/40\n",
      "17388/17388 [==============================] - 201s 12ms/sample - loss: 6.1322 - accuracy: 0.0527\n",
      "Epoch 2/40\n",
      "17388/17388 [==============================] - 198s 11ms/sample - loss: 5.6223 - accuracy: 0.0818\n",
      "Epoch 3/40\n",
      "17388/17388 [==============================] - 197s 11ms/sample - loss: 5.1705 - accuracy: 0.1175\n",
      "Epoch 4/40\n",
      "17388/17388 [==============================] - 197s 11ms/sample - loss: 4.7989 - accuracy: 0.1377\n",
      "Epoch 5/40\n",
      "17388/17388 [==============================] - 197s 11ms/sample - loss: 4.4379 - accuracy: 0.1586\n",
      "Epoch 6/40\n",
      "17388/17388 [==============================] - 195s 11ms/sample - loss: 4.0784 - accuracy: 0.1798\n",
      "Epoch 7/40\n",
      "17388/17388 [==============================] - 196s 11ms/sample - loss: 3.7222 - accuracy: 0.2102\n",
      "Epoch 8/40\n",
      "17388/17388 [==============================] - 197s 11ms/sample - loss: 3.3866 - accuracy: 0.2520\n",
      "Epoch 9/40\n",
      "17388/17388 [==============================] - 196s 11ms/sample - loss: 3.0630 - accuracy: 0.3109\n",
      "Epoch 10/40\n",
      "17388/17388 [==============================] - 197s 11ms/sample - loss: 2.7693 - accuracy: 0.3697\n",
      "Epoch 11/40\n",
      "17388/17388 [==============================] - 198s 11ms/sample - loss: 2.4900 - accuracy: 0.4260\n",
      "Epoch 12/40\n",
      "17388/17388 [==============================] - 197s 11ms/sample - loss: 2.2406 - accuracy: 0.4846\n",
      "Epoch 13/40\n",
      "17388/17388 [==============================] - 197s 11ms/sample - loss: 2.0119 - accuracy: 0.5422\n",
      "Epoch 14/40\n",
      "17388/17388 [==============================] - 198s 11ms/sample - loss: 1.8039 - accuracy: 0.5940\n",
      "Epoch 15/40\n",
      "17388/17388 [==============================] - 198s 11ms/sample - loss: 1.6082 - accuracy: 0.6415\n",
      "Epoch 16/40\n",
      "17388/17388 [==============================] - 198s 11ms/sample - loss: 1.4346 - accuracy: 0.6879\n",
      "Epoch 17/40\n",
      "17388/17388 [==============================] - 198s 11ms/sample - loss: 1.2744 - accuracy: 0.7276\n",
      "Epoch 18/40\n",
      "17388/17388 [==============================] - 198s 11ms/sample - loss: 1.1294 - accuracy: 0.7683\n",
      "Epoch 19/40\n",
      "17388/17388 [==============================] - 197s 11ms/sample - loss: 0.9978 - accuracy: 0.7999\n",
      "Epoch 20/40\n",
      "17388/17388 [==============================] - 195s 11ms/sample - loss: 0.8710 - accuracy: 0.8329\n",
      "Epoch 21/40\n",
      "17388/17388 [==============================] - 196s 11ms/sample - loss: 0.7630 - accuracy: 0.8582\n",
      "Epoch 22/40\n",
      "17388/17388 [==============================] - 195s 11ms/sample - loss: 0.6691 - accuracy: 0.8873\n",
      "Epoch 23/40\n",
      "17388/17388 [==============================] - 197s 11ms/sample - loss: 0.5875 - accuracy: 0.9049\n",
      "Epoch 24/40\n",
      "17388/17388 [==============================] - 197s 11ms/sample - loss: 0.5083 - accuracy: 0.9229\n",
      "Epoch 25/40\n",
      "17388/17388 [==============================] - 199s 11ms/sample - loss: 0.4453 - accuracy: 0.9343\n",
      "Epoch 26/40\n",
      "17388/17388 [==============================] - 196s 11ms/sample - loss: 0.3850 - accuracy: 0.9440\n",
      "Epoch 27/40\n",
      "17388/17388 [==============================] - 196s 11ms/sample - loss: 0.3494 - accuracy: 0.9534\n",
      "Epoch 28/40\n",
      "17388/17388 [==============================] - 198s 11ms/sample - loss: 0.3047 - accuracy: 0.9605\n",
      "Epoch 29/40\n",
      "17388/17388 [==============================] - 199s 11ms/sample - loss: 0.2632 - accuracy: 0.9657\n",
      "Epoch 30/40\n",
      "17388/17388 [==============================] - 196s 11ms/sample - loss: 0.2534 - accuracy: 0.9650\n",
      "Epoch 31/40\n",
      "17388/17388 [==============================] - 196s 11ms/sample - loss: 0.2244 - accuracy: 0.9695\n",
      "Epoch 32/40\n",
      "17388/17388 [==============================] - 196s 11ms/sample - loss: 0.1951 - accuracy: 0.9717\n",
      "Epoch 33/40\n",
      "17388/17388 [==============================] - 198s 11ms/sample - loss: 0.1708 - accuracy: 0.9739\n",
      "Epoch 34/40\n",
      "17388/17388 [==============================] - 199s 11ms/sample - loss: 0.1651 - accuracy: 0.9729\n",
      "Epoch 35/40\n",
      "17388/17388 [==============================] - 196s 11ms/sample - loss: 0.2940 - accuracy: 0.9359\n",
      "Epoch 36/40\n",
      "17388/17388 [==============================] - 194s 11ms/sample - loss: 0.3930 - accuracy: 0.9142\n",
      "Epoch 37/40\n",
      "17388/17388 [==============================] - 194s 11ms/sample - loss: 0.1651 - accuracy: 0.9722\n",
      "Epoch 38/40\n",
      "17388/17388 [==============================] - 196s 11ms/sample - loss: 0.1197 - accuracy: 0.9776\n",
      "Epoch 39/40\n",
      "17388/17388 [==============================] - 195s 11ms/sample - loss: 0.1072 - accuracy: 0.9768\n",
      "Epoch 40/40\n",
      "17388/17388 [==============================] - 195s 11ms/sample - loss: 0.1029 - accuracy: 0.9775\n"
     ]
    }
   ],
   "source": [
    "#fitting the model\n",
    "history = model.fit(xs, ys, epochs=40, verbose=1, callbacks=[earlystop])"
   ]
  },
  {
   "cell_type": "code",
   "execution_count": 14,
   "metadata": {},
   "outputs": [
    {
     "data": {
      "image/png": "[encoded data removed]",
      "text/plain": [
       "<Figure size 432x288 with 1 Axes>"
      ]
     },
     "metadata": {
      "needs_background": "light"
     },
     "output_type": "display_data"
    }
   ],
   "source": [
    "#plotting the result of epocs\n",
    "def plot_graphs(history, string):\n",
    "    plt.plot(history.history[string])\n",
    "    plt.xlabel(\"Epochs\")\n",
    "    plt.ylabel(string)\n",
    "    plt.show()\n",
    "    \n",
    "plot_graphs(history, 'accuracy')"
   ]
  },
  {
   "cell_type": "code",
   "execution_count": 15,
   "metadata": {},
   "outputs": [],
   "source": [
    "#function to predict the sentence\n",
    "def complete_this_paragraph(seed_text, next_words):\n",
    "    for _ in range(next_words):\n",
    "        token_list = tokenizer.texts_to_sequences([seed_text])[0]\n",
    "        token_list = pad_sequences([token_list], maxlen=max_sequence_len-1, padding='pre')\n",
    "        predicted = model.predict_classes(token_list, verbose=0)\n",
    "        \n",
    "        output_word = \"\"\n",
    "        for word, index in tokenizer.word_index.items():\n",
    "            if index == predicted:\n",
    "                output_word = word\n",
    "                break\n",
    "        seed_text += \" \" + output_word\n",
    "    return seed_text"
   ]
  },
  {
   "cell_type": "code",
   "execution_count": 16,
   "metadata": {},
   "outputs": [],
   "source": [
    "#candidate string for BLEU score\n",
    "candidate = []\n",
    "candidate.append(complete_this_paragraph(\"this is a good\", 40))"
   ]
  },
  {
   "cell_type": "code",
   "execution_count": 17,
   "metadata": {},
   "outputs": [],
   "source": [
    "#taking only Review Text column\n",
    "df_test = df['Review Text'].astype('str')"
   ]
  },
  {
   "cell_type": "code",
   "execution_count": 27,
   "metadata": {},
   "outputs": [],
   "source": [
    "#reference string for BLEU score\n",
    "reference = []\n",
    "reference.append(df_test[128])"
   ]
  },
  {
   "cell_type": "code",
   "execution_count": 29,
   "metadata": {},
   "outputs": [
    {
     "name": "stdout",
     "output_type": "stream",
     "text": [
      "1.0518351895246305e-231\n"
     ]
    }
   ],
   "source": [
    "#checking the BLEU score\n",
    "from nltk.translate.bleu_score import corpus_bleu\n",
    "bleu_score = corpus_bleu(reference, candidate)\n",
    "print(float(bleu_score))"
   ]
  },
  {
   "cell_type": "code",
   "execution_count": null,
   "metadata": {},
   "outputs": [],
   "source": []
  }
 ],
 "metadata": {
  "kernelspec": {
   "display_name": "Python 3",
   "language": "python",
   "name": "python3"
  },
  "language_info": {
   "codemirror_mode": {
    "name": "ipython",
    "version": 3
   },
   "file_extension": ".py",
   "mimetype": "text/x-python",
   "name": "python",
   "nbconvert_exporter": "python",
   "pygments_lexer": "ipython3",
   "version": "3.7.6"
  }
 },
 "nbformat": 4,
 "nbformat_minor": 4
}
